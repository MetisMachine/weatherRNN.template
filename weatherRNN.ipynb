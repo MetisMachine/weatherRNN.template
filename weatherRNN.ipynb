{
 "cells": [
  {
   "cell_type": "markdown",
   "metadata": {},
   "source": [
    "# Weather Prediction Example\n",
    "This template shows how to fetch weather data for a particular zip code from the Metis Machine data engine, and then use those data to train a dummy [recurrent neural network](https://en.wikipedia.org/wiki/Recurrent_neural_network) that will predict some aspect of the weather from the historical time series at that location.\n",
    "Obviously, weather modeling is not actually this easy, but the following code shows how to:\n",
    "* access data via the Metis Machine data engine\n",
    "* transform those data using a deep learning model\n",
    "* persist the resulting transformation so that it can be accessed via an outward-facing API"
   ]
  },
  {
   "cell_type": "code",
   "execution_count": 57,
   "metadata": {},
   "outputs": [],
   "source": [
    "import os\n",
    "import torch\n",
    "import torch.nn as nn\n",
    "from torch.autograd import Variable\n",
    "from datetime import datetime\n",
    "import pandas as pd"
   ]
  },
  {
   "cell_type": "markdown",
   "metadata": {},
   "source": [
    "## Access weather data using the Metis Machine SDK\n",
    "Any data intake or model project on the platform begins by initializing the Skafos SDK.\n",
    "This allows your task to access the resources of the platform, as well as ensures proper health monitoring.\n",
    "\n",
    "*Unresponsive tasks will eventually be purged.*"
   ]
  },
  {
   "cell_type": "code",
   "execution_count": 50,
   "metadata": {},
   "outputs": [
    {
     "name": "stdout",
     "output_type": "stream",
     "text": [
      "initializing the SDK connection\n",
      "2018-01-04 14:24:13,733 - skafossdk.data_engine - INFO - DataEngine Connection Opened\n",
      "2018-01-04 14:24:14,642 - skafossdk.monitor - INFO - Monitor Connection Opened\n"
     ]
    }
   ],
   "source": [
    "from skafossdk import *\n",
    "print('Initializing the SDK connection')\n",
    "skafos = Skafos()"
   ]
  },
  {
   "cell_type": "code",
   "execution_count": 2,
   "metadata": {},
   "outputs": [
    {
     "name": "stdout",
     "output_type": "stream",
     "text": [
      "2018-01-03 17:44:03,802 - skafossdk.data_engine - INFO - Creating View...\n",
      "2018-01-03 17:44:03,803 - skafossdk.data_engine - INFO - Sending msg...\n",
      "created a view of NOAA historial weather data\n"
     ]
    }
   ],
   "source": [
    "res = skafos.engine.create_view(\n",
    "    \"weather_noaa\", {\"keyspace\": \"weather\",\n",
    "                      \"table\": \"weather_noaa\"}, DataSourceType.Cassandra).result()\n",
    "print(\"created a view of NOAA historial weather data\")"
   ]
  },
  {
   "cell_type": "code",
   "execution_count": 3,
   "metadata": {},
   "outputs": [
    {
     "name": "stdout",
     "output_type": "stream",
     "text": [
      "pulling historical weather from a single zip code\n",
      "2018-01-03 17:44:12,064 - skafossdk.data_engine - INFO - Querying ...\n",
      "2018-01-03 17:44:12,065 - skafossdk.data_engine - INFO - Sending msg...\n",
      "2018-01-03 17:44:15,929 - skafossdk.monitor - INFO - Monitor Connection Closed\n"
     ]
    }
   ],
   "source": [
    "print(\"pulling historical weather from a single zip code\")\n",
    "weather_json = skafos.engine.query(\"SELECT * from weather_noaa WHERE zipcode = 23250\").result()"
   ]
  },
  {
   "cell_type": "code",
   "execution_count": 4,
   "metadata": {},
   "outputs": [
    {
     "data": {
      "text/plain": [
       "{'date': '2008-10-03T00:00:00Z',\n",
       " 'precip_total': 0.0,\n",
       " 'pressure_avg': 29.81999969482422,\n",
       " 'rh_avg': 66.0,\n",
       " 'sunrise': '608',\n",
       " 'sunset': '1747',\n",
       " 'tmax': 74.0,\n",
       " 'tmin': 45.0,\n",
       " 'wind_speed_peak': 26.0,\n",
       " 'zipcode': '23250'}"
      ]
     },
     "execution_count": 4,
     "metadata": {},
     "output_type": "execute_result"
    }
   ],
   "source": [
    "# validate a single record\n",
    "weather_json['data'][0]"
   ]
  },
  {
   "cell_type": "code",
   "execution_count": 5,
   "metadata": {},
   "outputs": [],
   "source": [
    "# convert retrieved records to a dataframe\n",
    "import pandas as pd\n",
    "weather = pd.DataFrame(weather_json['data'])\n",
    "weather['date']  = pd.to_datetime(weather['date'])"
   ]
  },
  {
   "cell_type": "code",
   "execution_count": 6,
   "metadata": {},
   "outputs": [
    {
     "name": "stdout",
     "output_type": "stream",
     "text": [
      "<class 'pandas.core.frame.DataFrame'>\n",
      "RangeIndex: 3550 entries, 0 to 3549\n",
      "Data columns (total 10 columns):\n",
      "date               3550 non-null datetime64[ns]\n",
      "precip_total       3550 non-null object\n",
      "pressure_avg       3550 non-null object\n",
      "rh_avg             3550 non-null object\n",
      "sunrise            3550 non-null object\n",
      "sunset             3550 non-null object\n",
      "tmax               3550 non-null float64\n",
      "tmin               3549 non-null float64\n",
      "wind_speed_peak    3550 non-null object\n",
      "zipcode            3550 non-null object\n",
      "dtypes: datetime64[ns](1), float64(2), object(7)\n",
      "memory usage: 277.4+ KB\n"
     ]
    }
   ],
   "source": [
    "# validate this is what we expect, missing values may throw off pandas types\n",
    "weather.info()"
   ]
  },
  {
   "cell_type": "code",
   "execution_count": 7,
   "metadata": {},
   "outputs": [],
   "source": [
    "# some numerical values do not show as such, clean missing records\n",
    "weather['precip_total'] = weather['precip_total'].replace('NaN', None, regex=False).fillna(0)\n",
    "weather['pressure_avg'] = weather['pressure_avg'].replace('NaN', None, regex=False).fillna(0)\n",
    "weather['wind_speed_peak'] = weather['wind_speed_peak'].replace('NaN', None, regex=False).fillna(0)"
   ]
  },
  {
   "cell_type": "code",
   "execution_count": 9,
   "metadata": {},
   "outputs": [
    {
     "name": "stdout",
     "output_type": "stream",
     "text": [
      "<class 'pandas.core.frame.DataFrame'>\n",
      "RangeIndex: 3550 entries, 0 to 3549\n",
      "Data columns (total 10 columns):\n",
      "date               3550 non-null datetime64[ns]\n",
      "precip_total       3550 non-null float64\n",
      "pressure_avg       3550 non-null float64\n",
      "rh_avg             3550 non-null object\n",
      "sunrise            3550 non-null object\n",
      "sunset             3550 non-null object\n",
      "tmax               3550 non-null float64\n",
      "tmin               3549 non-null float64\n",
      "wind_speed_peak    3550 non-null float64\n",
      "zipcode            3550 non-null object\n",
      "dtypes: datetime64[ns](1), float64(5), object(4)\n",
      "memory usage: 277.4+ KB\n"
     ]
    }
   ],
   "source": [
    "# verify that we now have all the float columns we expected\n",
    "weather.info()"
   ]
  },
  {
   "cell_type": "markdown",
   "metadata": {},
   "source": [
    "# Prep inputs for modeling\n",
    "We want to use a recurrent time-series model, so our data need to be in ascending order by date."
   ]
  },
  {
   "cell_type": "code",
   "execution_count": 10,
   "metadata": {},
   "outputs": [],
   "source": [
    "day_zero = weather['date'].min()"
   ]
  },
  {
   "cell_type": "code",
   "execution_count": 11,
   "metadata": {},
   "outputs": [],
   "source": [
    "weather.set_index((weather['date'] - day_zero).apply(lambda d: d.days), inplace=True)\n",
    "weather.sort_index(inplace=True)"
   ]
  },
  {
   "cell_type": "markdown",
   "metadata": {},
   "source": [
    "## Feature Engineering\n",
    "These are not necessarilly excellent features, but simply illustrate a common step in the predictive process.\n",
    "\n",
    "* length of day\n",
    "* average temperature\n",
    "* change in average temperature\n",
    "* change in barometric pressure\n",
    "* precipitation\n",
    "* wind speed peak"
   ]
  },
  {
   "cell_type": "code",
   "execution_count": 12,
   "metadata": {},
   "outputs": [],
   "source": [
    "weather['precip_total'].fillna(0, inplace=True)"
   ]
  },
  {
   "cell_type": "code",
   "execution_count": 13,
   "metadata": {},
   "outputs": [],
   "source": [
    "weather['day_length'] = weather.apply(lambda r: int(r.sunset) - int(r.sunrise), axis=1)"
   ]
  },
  {
   "cell_type": "code",
   "execution_count": 14,
   "metadata": {},
   "outputs": [],
   "source": [
    "weather['tavg'] = (weather.tmax + weather.tmin) / 2"
   ]
  },
  {
   "cell_type": "code",
   "execution_count": 15,
   "metadata": {},
   "outputs": [],
   "source": [
    "weather['pressure_change'] = weather['pressure_avg'].pct_change()"
   ]
  },
  {
   "cell_type": "code",
   "execution_count": 16,
   "metadata": {},
   "outputs": [],
   "source": [
    "weather['temp_change'] = weather['tavg'].pct_change()"
   ]
  },
  {
   "cell_type": "code",
   "execution_count": 17,
   "metadata": {},
   "outputs": [],
   "source": [
    "weather_features = weather[\n",
    "    ['day_length', 'tavg', 'tmin', 'tmax', 'temp_change', 'pressure_change', 'precip_total', 'wind_speed_peak']].dropna()"
   ]
  },
  {
   "cell_type": "code",
   "execution_count": 19,
   "metadata": {},
   "outputs": [
    {
     "data": {
      "text/html": [
       "<div>\n",
       "<style scoped>\n",
       "    .dataframe tbody tr th:only-of-type {\n",
       "        vertical-align: middle;\n",
       "    }\n",
       "\n",
       "    .dataframe tbody tr th {\n",
       "        vertical-align: top;\n",
       "    }\n",
       "\n",
       "    .dataframe thead th {\n",
       "        text-align: right;\n",
       "    }\n",
       "</style>\n",
       "<table border=\"1\" class=\"dataframe\">\n",
       "  <thead>\n",
       "    <tr style=\"text-align: right;\">\n",
       "      <th></th>\n",
       "      <th>day_length</th>\n",
       "      <th>tavg</th>\n",
       "      <th>tmin</th>\n",
       "      <th>tmax</th>\n",
       "      <th>temp_change</th>\n",
       "      <th>pressure_change</th>\n",
       "      <th>precip_total</th>\n",
       "      <th>wind_speed_peak</th>\n",
       "    </tr>\n",
       "    <tr>\n",
       "      <th>date</th>\n",
       "      <th></th>\n",
       "      <th></th>\n",
       "      <th></th>\n",
       "      <th></th>\n",
       "      <th></th>\n",
       "      <th></th>\n",
       "      <th></th>\n",
       "      <th></th>\n",
       "    </tr>\n",
       "  </thead>\n",
       "  <tbody>\n",
       "    <tr>\n",
       "      <th>1</th>\n",
       "      <td>980</td>\n",
       "      <td>32.0</td>\n",
       "      <td>27.0</td>\n",
       "      <td>37.0</td>\n",
       "      <td>-0.288889</td>\n",
       "      <td>0.004367</td>\n",
       "      <td>0.01</td>\n",
       "      <td>37.0</td>\n",
       "    </tr>\n",
       "    <tr>\n",
       "      <th>2</th>\n",
       "      <td>980</td>\n",
       "      <td>26.0</td>\n",
       "      <td>18.0</td>\n",
       "      <td>34.0</td>\n",
       "      <td>-0.187500</td>\n",
       "      <td>0.018395</td>\n",
       "      <td>0.00</td>\n",
       "      <td>32.0</td>\n",
       "    </tr>\n",
       "    <tr>\n",
       "      <th>3</th>\n",
       "      <td>981</td>\n",
       "      <td>30.5</td>\n",
       "      <td>16.0</td>\n",
       "      <td>45.0</td>\n",
       "      <td>0.173077</td>\n",
       "      <td>0.000328</td>\n",
       "      <td>0.00</td>\n",
       "      <td>22.0</td>\n",
       "    </tr>\n",
       "    <tr>\n",
       "      <th>4</th>\n",
       "      <td>981</td>\n",
       "      <td>38.5</td>\n",
       "      <td>26.0</td>\n",
       "      <td>51.0</td>\n",
       "      <td>0.262295</td>\n",
       "      <td>-0.008207</td>\n",
       "      <td>0.00</td>\n",
       "      <td>17.0</td>\n",
       "    </tr>\n",
       "    <tr>\n",
       "      <th>5</th>\n",
       "      <td>983</td>\n",
       "      <td>52.5</td>\n",
       "      <td>39.0</td>\n",
       "      <td>66.0</td>\n",
       "      <td>0.363636</td>\n",
       "      <td>-0.003972</td>\n",
       "      <td>0.84</td>\n",
       "      <td>18.0</td>\n",
       "    </tr>\n",
       "    <tr>\n",
       "      <th>6</th>\n",
       "      <td>984</td>\n",
       "      <td>58.5</td>\n",
       "      <td>43.0</td>\n",
       "      <td>74.0</td>\n",
       "      <td>0.114286</td>\n",
       "      <td>0.000000</td>\n",
       "      <td>0.00</td>\n",
       "      <td>16.0</td>\n",
       "    </tr>\n",
       "  </tbody>\n",
       "</table>\n",
       "</div>"
      ],
      "text/plain": [
       "      day_length  tavg  tmin  tmax  temp_change  pressure_change  \\\n",
       "date                                                               \n",
       "1            980  32.0  27.0  37.0    -0.288889         0.004367   \n",
       "2            980  26.0  18.0  34.0    -0.187500         0.018395   \n",
       "3            981  30.5  16.0  45.0     0.173077         0.000328   \n",
       "4            981  38.5  26.0  51.0     0.262295        -0.008207   \n",
       "5            983  52.5  39.0  66.0     0.363636        -0.003972   \n",
       "6            984  58.5  43.0  74.0     0.114286         0.000000   \n",
       "\n",
       "      precip_total  wind_speed_peak  \n",
       "date                                 \n",
       "1             0.01             37.0  \n",
       "2             0.00             32.0  \n",
       "3             0.00             22.0  \n",
       "4             0.00             17.0  \n",
       "5             0.84             18.0  \n",
       "6             0.00             16.0  "
      ]
     },
     "execution_count": 19,
     "metadata": {},
     "output_type": "execute_result"
    }
   ],
   "source": [
    "# validate inputs to the RNN\n",
    "weather_features.iloc[:6]"
   ]
  },
  {
   "cell_type": "markdown",
   "metadata": {},
   "source": [
    "## Normalize inputs for deep learning\n",
    "Most neural networks expect inputs from -1 to 1"
   ]
  },
  {
   "cell_type": "code",
   "execution_count": 22,
   "metadata": {},
   "outputs": [],
   "source": [
    "# fit two standard deviations between -1 and 1\n",
    "weather_norm = weather_features.apply(lambda c: 0.5 * (c - c.mean()) / c.std())"
   ]
  },
  {
   "cell_type": "code",
   "execution_count": 83,
   "metadata": {},
   "outputs": [],
   "source": [
    "weather_x = weather_norm.drop('tavg', axis=1)\n",
    "# shift so that we're trying to predict tomorrow\n",
    "weather_y = weather_norm['tavg'].shift(-1)"
   ]
  },
  {
   "cell_type": "code",
   "execution_count": 84,
   "metadata": {},
   "outputs": [],
   "source": [
    "# predict on the last two months\n",
    "predict_day = weather_x.index[-60]"
   ]
  },
  {
   "cell_type": "markdown",
   "metadata": {},
   "source": [
    "# Recurrent Neural Network Model\n",
    "[PyTorch](http://pytorch.org) is a wonderful framnework for deep learning since it handles backpropgation automatically."
   ]
  },
  {
   "cell_type": "code",
   "execution_count": 27,
   "metadata": {
    "collapsed": true
   },
   "outputs": [
    {
     "name": "stdout",
     "output_type": "stream",
     "text": [
      "Collecting torch==0.3.0.post4 from http://download.pytorch.org/whl/cu80/torch-0.3.0.post4-cp36-cp36m-linux_x86_64.whl\n",
      "  Downloading http://download.pytorch.org/whl/cu80/torch-0.3.0.post4-cp36-cp36m-linux_x86_64.whl (592.3MB)\n",
      "\u001b[K    100% |████████████████████████████████| 592.3MB 11.3MB/s ta 0:00:011  6% |██                              | 36.0MB 13.7MB/s eta 0:00:41    46% |███████████████                 | 277.2MB 21.6MB/s eta 0:00:15    52% |████████████████▊               | 309.8MB 17.3MB/s eta 0:00:17    60% |███████████████████▌            | 360.4MB 103.3MB/s eta 0:00:03��███████▌  | 545.2MB 63.3MB/s eta 0:00:018.6MB 79.8MB/s eta 0:00:01��████████████ | 572.4MB 101.2MB/s eta 0:00:011.5MB 105.2MB/s eta 0:00:01��████████████▌| 582.4MB 60.8MB/s eta 0:00:01�██████████████████| 591.8MB 59.9MB/s eta 0:00:01\n",
      "\u001b[?25hCollecting pyyaml (from torch==0.3.0.post4)\n",
      "  Downloading PyYAML-3.12.tar.gz (253kB)\n",
      "\u001b[K    100% |████████████████████████████████| 256kB 2.4MB/s eta 0:00:01\n",
      "\u001b[?25hRequirement already satisfied: numpy in /opt/conda/lib/python3.6/site-packages (from torch==0.3.0.post4)\n",
      "Building wheels for collected packages: pyyaml\n",
      "  Running setup.py bdist_wheel for pyyaml ... \u001b[?25ldone\n",
      "\u001b[?25h  Stored in directory: /home/jovyan/.cache/pip/wheels/2c/f7/79/13f3a12cd723892437c0cfbde1230ab4d82947ff7b3839a4fc\n",
      "Successfully built pyyaml\n",
      "Installing collected packages: pyyaml, torch\n",
      "Successfully installed pyyaml-3.12 torch-0.3.0.post4\n"
     ]
    }
   ],
   "source": [
    "! pip install http://download.pytorch.org/whl/cu80/torch-0.3.0.post4-cp36-cp36m-linux_x86_64.whl "
   ]
  },
  {
   "cell_type": "code",
   "execution_count": 28,
   "metadata": {
    "collapsed": true
   },
   "outputs": [
    {
     "name": "stdout",
     "output_type": "stream",
     "text": [
      "Collecting torchvision\n",
      "  Downloading torchvision-0.2.0-py2.py3-none-any.whl (48kB)\n",
      "\u001b[K    100% |████████████████████████████████| 51kB 3.8MB/s ta 0:00:011\n",
      "\u001b[?25hRequirement already satisfied: torch in /opt/conda/lib/python3.6/site-packages (from torchvision)\n",
      "Collecting pillow>=4.1.1 (from torchvision)\n",
      "  Downloading Pillow-5.0.0-cp36-cp36m-manylinux1_x86_64.whl (5.9MB)\n",
      "\u001b[K    100% |████████████████████████████████| 5.9MB 118kB/s eta 0:00:01\n",
      "\u001b[?25hRequirement already satisfied: six in /opt/conda/lib/python3.6/site-packages (from torchvision)\n",
      "Requirement already satisfied: numpy in /opt/conda/lib/python3.6/site-packages (from torchvision)\n",
      "Requirement already satisfied: pyyaml in /opt/conda/lib/python3.6/site-packages (from torch->torchvision)\n",
      "Installing collected packages: pillow, torchvision\n",
      "Successfully installed pillow-5.0.0 torchvision-0.2.0\n"
     ]
    }
   ],
   "source": [
    "! pip install torchvision"
   ]
  },
  {
   "cell_type": "code",
   "execution_count": 30,
   "metadata": {
    "collapsed": true
   },
   "outputs": [
    {
     "name": "stdout",
     "output_type": "stream",
     "text": [
      "Collecting ggplot\n",
      "  Downloading ggplot-0.11.5-py2.py3-none-any.whl (2.2MB)\n",
      "\u001b[K    100% |████████████████████████████████| 2.2MB 317kB/s eta 0:00:01    58% |██████████████████▉             | 1.3MB 32.0MB/s eta 0:00:01\n",
      "\u001b[?25hCollecting cycler (from ggplot)\n",
      "  Downloading cycler-0.10.0-py2.py3-none-any.whl\n",
      "Collecting matplotlib (from ggplot)\n",
      "  Downloading matplotlib-2.1.1-cp36-cp36m-manylinux1_x86_64.whl (15.0MB)\n",
      "\u001b[K    100% |████████████████████████████████| 15.0MB 46kB/s  eta 0:00:01\n",
      "\u001b[?25hRequirement already satisfied: pandas in /opt/conda/lib/python3.6/site-packages (from ggplot)\n",
      "Requirement already satisfied: scipy in /opt/conda/lib/python3.6/site-packages (from ggplot)\n",
      "Requirement already satisfied: numpy in /opt/conda/lib/python3.6/site-packages (from ggplot)\n",
      "Requirement already satisfied: statsmodels in /opt/conda/lib/python3.6/site-packages (from ggplot)\n",
      "Requirement already satisfied: patsy>=0.4 in /opt/conda/lib/python3.6/site-packages (from ggplot)\n",
      "Collecting brewer2mpl (from ggplot)\n",
      "  Downloading brewer2mpl-1.4.1-py2.py3-none-any.whl\n",
      "Requirement already satisfied: six in /opt/conda/lib/python3.6/site-packages (from ggplot)\n",
      "Requirement already satisfied: python-dateutil>=2.0 in /opt/conda/lib/python3.6/site-packages (from matplotlib->ggplot)\n",
      "Requirement already satisfied: pytz in /opt/conda/lib/python3.6/site-packages (from matplotlib->ggplot)\n",
      "Requirement already satisfied: pyparsing!=2.0.4,!=2.1.2,!=2.1.6,>=2.0.1 in /opt/conda/lib/python3.6/site-packages (from matplotlib->ggplot)\n",
      "Installing collected packages: cycler, matplotlib, brewer2mpl, ggplot\n",
      "Successfully installed brewer2mpl-1.4.1 cycler-0.10.0 ggplot-0.11.5 matplotlib-2.1.1\n"
     ]
    }
   ],
   "source": [
    "! pip install ggplot"
   ]
  },
  {
   "cell_type": "code",
   "execution_count": 85,
   "metadata": {},
   "outputs": [],
   "source": [
    "x_train = torch.autograd.Variable(\n",
    "    torch.from_numpy(weather_x.loc[:predict_day - 1].as_matrix()).float(), requires_grad=False)\n",
    "x_test = torch.autograd.Variable(\n",
    "    torch.from_numpy(weather_x.loc[predict_day:].as_matrix()).float(), requires_grad=False)\n",
    "batch_size = x_train.size()[0]\n",
    "input_size = len(weather_x.columns)"
   ]
  },
  {
   "cell_type": "code",
   "execution_count": 86,
   "metadata": {},
   "outputs": [],
   "source": [
    "y_train = torch.autograd.Variable(\n",
    "    torch.from_numpy(weather_y.loc[:predict_day - 1].as_matrix()).float(), requires_grad=False)\n",
    "y_test = torch.autograd.Variable(\n",
    "    torch.from_numpy(weather_y.loc[predict_day:].as_matrix()).float(), requires_grad=False)"
   ]
  },
  {
   "cell_type": "code",
   "execution_count": 87,
   "metadata": {},
   "outputs": [],
   "source": [
    "class WeatherNet(torch.nn.Module):\n",
    "    hidden_layers = 2\n",
    "    hidden_size = 6\n",
    "    \n",
    "    def __init__(self):\n",
    "        super(WeatherNet, self).__init__()\n",
    "        # use a small hidden layer since we have such narrow inputs\n",
    "        self.rnn1 = nn.GRU(input_size=input_size,\n",
    "                           hidden_size=self.hidden_size,\n",
    "                           num_layers=self.hidden_layers)\n",
    "        self.dense1 = nn.Linear(self.hidden_size, 1)\n",
    "\n",
    "    def forward(self, x, hidden):\n",
    "        x_batch = x.view(len(x), 1, -1)\n",
    "        x_r, hidden = self.rnn1(x_batch, hidden)\n",
    "        x_o = self.dense1(x_r)\n",
    "        return x_o, hidden\n",
    "\n",
    "    def init_hidden(self, batch_size):\n",
    "        return Variable(torch.randn(self.hidden_layers, 1, self.hidden_size))"
   ]
  },
  {
   "cell_type": "markdown",
   "metadata": {},
   "source": [
    "### Train the RNN\n",
    "Initialize the hidden layer during training, but keep it for later prediction."
   ]
  },
  {
   "cell_type": "code",
   "execution_count": 88,
   "metadata": {},
   "outputs": [
    {
     "name": "stdout",
     "output_type": "stream",
     "text": [
      "WeatherNet(\n",
      "  (rnn1): GRU(7, 6, num_layers=2)\n",
      "  (dense1): Linear(in_features=6, out_features=1)\n",
      ")\n"
     ]
    }
   ],
   "source": [
    "torch.manual_seed(0)\n",
    "model = WeatherNet()\n",
    "print(model)\n",
    "criterion = nn.MSELoss(size_average=True)\n",
    "optimizer = torch.optim.Adadelta(model.parameters())"
   ]
  },
  {
   "cell_type": "code",
   "execution_count": 104,
   "metadata": {},
   "outputs": [
    {
     "name": "stdout",
     "output_type": "stream",
     "text": [
      "15:57 epoch 0 loss: 0.040170375257730484\n",
      "15:57 epoch 5 loss: 0.03973850980401039\n",
      "15:57 epoch 10 loss: 0.03812502324581146\n",
      "15:57 epoch 15 loss: 0.036933042109012604\n",
      "15:57 epoch 20 loss: 0.03646813705563545\n",
      "15:58 epoch 25 loss: 0.03533492237329483\n",
      "15:58 epoch 30 loss: 0.034507256001234055\n",
      "15:58 epoch 35 loss: 0.03448263928294182\n",
      "15:58 epoch 40 loss: 0.033745478838682175\n",
      "15:58 epoch 45 loss: 0.033302366733551025\n",
      "15:58 epoch 50 loss: 0.033223558217287064\n",
      "15:58 epoch 55 loss: 0.03330598026514053\n",
      "15:58 epoch 60 loss: 0.03197720646858215\n",
      "15:59 epoch 65 loss: 0.03133971616625786\n",
      "15:59 epoch 70 loss: 0.031395141035318375\n"
     ]
    }
   ],
   "source": [
    "hidden = model.init_hidden(batch_size)\n",
    "\n",
    "for i in range(120):\n",
    "    def closure():\n",
    "        model.zero_grad()\n",
    "        hidden = model.init_hidden(batch_size)\n",
    "        out, hidden = model(x_train, hidden)\n",
    "        loss = criterion(out, y_train)\n",
    "        if i % 10 == 0:\n",
    "            print('{:%H:%M} epoch {} loss: {}'.format(datetime.now(), i, loss.data.numpy()[0]))\n",
    "        loss.backward()\n",
    "        return loss\n",
    "    optimizer.step(closure)"
   ]
  },
  {
   "cell_type": "markdown",
   "metadata": {},
   "source": [
    "# Predict\n",
    "Keep the current hidden state of the model and run it forward without updating parameters"
   ]
  },
  {
   "cell_type": "code",
   "execution_count": 105,
   "metadata": {},
   "outputs": [],
   "source": [
    "y_pred, new_hidden = model(x_test, hidden)"
   ]
  },
  {
   "cell_type": "code",
   "execution_count": 106,
   "metadata": {},
   "outputs": [],
   "source": [
    "predictions = pd.DataFrame(y_pred.view(len(y_pred), -1).data.numpy(), columns=['tavg_norm'])\n",
    "predictions['series'] = 'predicted'"
   ]
  },
  {
   "cell_type": "code",
   "execution_count": 107,
   "metadata": {},
   "outputs": [],
   "source": [
    "actuals = pd.DataFrame(y_test.data.numpy(), columns=['tavg_norm'])\n",
    "actuals['series'] = 'actual'"
   ]
  },
  {
   "cell_type": "code",
   "execution_count": 108,
   "metadata": {},
   "outputs": [],
   "source": [
    "# join for plotting purposes\n",
    "eval_data = pd.concat([predictions, actuals])\n",
    "eval_data['day'] = eval_data.index"
   ]
  },
  {
   "cell_type": "markdown",
   "metadata": {
    "collapsed": true
   },
   "source": [
    "### UnNormalize Predictions for Display\n",
    "This was how we normalized the inputs to the RNN, we will just undo that transformation for plotting purposes.\n",
    "``` python\n",
    "weather_norm = weather_features.apply(lambda c: 0.5 * (c - c.mean()) / c.std())\n",
    "```"
   ]
  },
  {
   "cell_type": "code",
   "execution_count": 109,
   "metadata": {},
   "outputs": [],
   "source": [
    "eval_data['tavg'] = 2. * eval_data['tavg_norm'] * weather_features['tavg'].std() + weather_features['tavg'].mean() "
   ]
  },
  {
   "cell_type": "code",
   "execution_count": 110,
   "metadata": {},
   "outputs": [],
   "source": [
    "import ggplot as gg"
   ]
  },
  {
   "cell_type": "code",
   "execution_count": 111,
   "metadata": {},
   "outputs": [
    {
     "data": {
      "image/png": "[encoded data removed]",
      "text/plain": [
       "<matplotlib.figure.Figure at 0x7fa54e978e48>"
      ]
     },
     "metadata": {},
     "output_type": "display_data"
    },
    {
     "data": {
      "text/plain": [
       "<ggplot: (8771747797042)>"
      ]
     },
     "execution_count": 111,
     "metadata": {},
     "output_type": "execute_result"
    }
   ],
   "source": [
    "gg.ggplot(gg.aes(x='day', y='tavg', color='series'),\n",
    "          data=eval_data) + gg.geom_line() + gg.ggtitle(\"Predicted vs Actual High Temp\")"
   ]
  },
  {
   "cell_type": "markdown",
   "metadata": {},
   "source": [
    "# Persist Predictions"
   ]
  },
  {
   "cell_type": "code",
   "execution_count": 112,
   "metadata": {},
   "outputs": [],
   "source": [
    "# define the schema for this dataset\n",
    "schema = {\n",
    "    \"table_name\": \"rnn_weather_predictions\",\n",
    "    \"options\": {\n",
    "        \"primary_key\": [\"day\", \"actual\"],\n",
    "        \"order_by\": [\"actual asc\"]\n",
    "    },\n",
    "    \"columns\": {\n",
    "        \"day\": \"int\",\n",
    "        \"tavg\": \"float\",\n",
    "        \"series\": \"text\"\n",
    "    }\n",
    "}"
   ]
  },
  {
   "cell_type": "code",
   "execution_count": 113,
   "metadata": {},
   "outputs": [],
   "source": [
    "data_out = eval_data.dropna().drop('tavg_norm', axis=1).to_dict(orient='records')"
   ]
  },
  {
   "cell_type": "code",
   "execution_count": 114,
   "metadata": {},
   "outputs": [
    {
     "name": "stdout",
     "output_type": "stream",
     "text": [
      "2018-01-04 16:00:23,576 - skafossdk.data_engine - INFO - Saving Data ...\n",
      "2018-01-04 16:00:23,578 - skafossdk.data_engine - INFO - Sending msg...\n"
     ]
    }
   ],
   "source": [
    "dataresult = skafos.engine.save(schema, data_out).result()"
   ]
  },
  {
   "cell_type": "markdown",
   "metadata": {},
   "source": [
    "## Accessing persisted data\n",
    "Ingested data is available from the Metis Machine API using your credentials as described in the [API docs](https://docs.metismachine.io/docs/api-accessing-your-results)"
   ]
  }
 ],
 "metadata": {
  "kernelspec": {
   "display_name": "Python 3",
   "language": "python",
   "name": "python3"
  },
  "language_info": {
   "codemirror_mode": {
    "name": "ipython",
    "version": 3
   },
   "file_extension": ".py",
   "mimetype": "text/x-python",
   "name": "python",
   "nbconvert_exporter": "python",
   "pygments_lexer": "ipython3",
   "version": "3.6.2"
  }
 },
 "nbformat": 4,
 "nbformat_minor": 2
}
