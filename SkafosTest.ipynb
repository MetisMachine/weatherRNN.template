{
 "cells": [
  {
   "cell_type": "markdown",
   "metadata": {},
   "source": [
    "# Weather Prediction Example\n",
    "Start by loading historical weather data for a location"
   ]
  },
  {
   "cell_type": "code",
   "execution_count": 2,
   "metadata": {},
   "outputs": [],
   "source": [
    "from iris.common import spark"
   ]
  },
  {
   "cell_type": "code",
   "execution_count": 3,
   "metadata": {},
   "outputs": [
    {
     "name": "stdout",
     "output_type": "stream",
     "text": [
      "working in 64 numparts\n",
      "querying EC2 for cassandra hosts\n",
      "using spark master(s) spark://10.0.1.250:7077,10.0.1.103:7077\n",
      "querying EC2 for cassandra hosts\n",
      "found cassandra hosts ['10.0.1.57', '10.0.1.73', '10.0.1.151', '10.0.1.168', '10.0.1.249', '10.0.1.155', '10.0.1.53', '10.0.1.6', '10.0.1.227', '10.0.1.181', '10.0.1.82', '10.0.1.4', '10.0.1.101', '10.0.1.122', '10.0.1.107', '10.0.1.59', '10.0.1.47']\n",
      "using cassandra hosts 10.0.1.57,10.0.1.73,10.0.1.151,10.0.1.168,10.0.1.249,10.0.1.155,10.0.1.53,10.0.1.6,10.0.1.227,10.0.1.181,10.0.1.82,10.0.1.4,10.0.1.101,10.0.1.122,10.0.1.107,10.0.1.59,10.0.1.47\n",
      "fetching a spark session for app modelDevelTest on spark://10.0.1.250:7077,10.0.1.103:7077\n",
      "setting custom vpn ports and addresses for user alec\n",
      "setting spark event logs to go to /eventlogs for the history server\n",
      "Using dynamic executors for better resource sharing\n",
      "setting graph operations to checkpoint to s3 every iteration\n"
     ]
    }
   ],
   "source": [
    "ss = spark.getSparkSession('modelDevelTest', numParts=64, maxCores='17', executorCores='1', executorMem='2g')"
   ]
  },
  {
   "cell_type": "code",
   "execution_count": 4,
   "metadata": {},
   "outputs": [],
   "source": [
    "weather = ss.read.format(\"org.apache.spark.sql.cassandra\")\\\n",
    "    .options(table=\"weather_noaa\", keyspace=\"weather\").load().persist()"
   ]
  },
  {
   "cell_type": "code",
   "execution_count": 5,
   "metadata": {},
   "outputs": [],
   "source": [
    "# complete this section by fetching the data locally as a pandas data frame\n",
    "weatherLocal = weather.where('zipcode == 23250').toPandas()"
   ]
  },
  {
   "cell_type": "markdown",
   "metadata": {},
   "source": [
    "# Prep inputs for modeling\n",
    "First we make a numeric time scale, though just having them in order of date is sufficient"
   ]
  },
  {
   "cell_type": "code",
   "execution_count": 7,
   "metadata": {},
   "outputs": [],
   "source": [
    "day_zero = weatherLocal['date'].min()"
   ]
  },
  {
   "cell_type": "code",
   "execution_count": 8,
   "metadata": {},
   "outputs": [],
   "source": [
    "weatherLocal.set_index((weatherLocal['date'] - day_zero).apply(lambda d: d.days), inplace=True)\n",
    "weatherLocal.sort_index(inplace=True)"
   ]
  },
  {
   "cell_type": "markdown",
   "metadata": {},
   "source": [
    "## Create features\n",
    "* length of day\n",
    "* average temperature\n",
    "* change in average temperature\n",
    "* change in barometric pressure\n",
    "* precipitation\n",
    "* wind speed peak"
   ]
  },
  {
   "cell_type": "code",
   "execution_count": 9,
   "metadata": {},
   "outputs": [],
   "source": [
    "weatherLocal['precip_total'].fillna(0, inplace=True)"
   ]
  },
  {
   "cell_type": "code",
   "execution_count": 10,
   "metadata": {},
   "outputs": [],
   "source": [
    "weatherLocal['day_length'] = weatherLocal.apply(lambda r: int(r.sunset) - int(r.sunrise), axis=1)"
   ]
  },
  {
   "cell_type": "code",
   "execution_count": 11,
   "metadata": {},
   "outputs": [],
   "source": [
    "weatherLocal['tavg'] = (weatherLocal.tmax + weatherLocal.tmin) / 2"
   ]
  },
  {
   "cell_type": "code",
   "execution_count": 12,
   "metadata": {},
   "outputs": [],
   "source": [
    "weatherLocal['pressure_change'] = weatherLocal['pressure_avg'].pct_change()"
   ]
  },
  {
   "cell_type": "code",
   "execution_count": 13,
   "metadata": {},
   "outputs": [],
   "source": [
    "weatherLocal['temp_change'] = weatherLocal['tavg'].pct_change()"
   ]
  },
  {
   "cell_type": "code",
   "execution_count": 55,
   "metadata": {},
   "outputs": [],
   "source": [
    "weather_features = weatherLocal[\n",
    "    ['day_length', 'tavg', 'tmin', 'tmax', 'temp_change', 'pressure_change', 'precip_total', 'wind_speed_peak']].dropna()"
   ]
  },
  {
   "cell_type": "code",
   "execution_count": 56,
   "metadata": {},
   "outputs": [
    {
     "data": {
      "text/html": [
       "<div>\n",
       "<style scoped>\n",
       "    .dataframe tbody tr th:only-of-type {\n",
       "        vertical-align: middle;\n",
       "    }\n",
       "\n",
       "    .dataframe tbody tr th {\n",
       "        vertical-align: top;\n",
       "    }\n",
       "\n",
       "    .dataframe thead th {\n",
       "        text-align: right;\n",
       "    }\n",
       "</style>\n",
       "<table border=\"1\" class=\"dataframe\">\n",
       "  <thead>\n",
       "    <tr style=\"text-align: right;\">\n",
       "      <th></th>\n",
       "      <th>day_length</th>\n",
       "      <th>tavg</th>\n",
       "      <th>tmin</th>\n",
       "      <th>tmax</th>\n",
       "      <th>temp_change</th>\n",
       "      <th>pressure_change</th>\n",
       "      <th>precip_total</th>\n",
       "      <th>wind_speed_peak</th>\n",
       "    </tr>\n",
       "    <tr>\n",
       "      <th>date</th>\n",
       "      <th></th>\n",
       "      <th></th>\n",
       "      <th></th>\n",
       "      <th></th>\n",
       "      <th></th>\n",
       "      <th></th>\n",
       "      <th></th>\n",
       "      <th></th>\n",
       "    </tr>\n",
       "  </thead>\n",
       "  <tbody>\n",
       "    <tr>\n",
       "      <th>1</th>\n",
       "      <td>980</td>\n",
       "      <td>40.0</td>\n",
       "      <td>30.0</td>\n",
       "      <td>50.0</td>\n",
       "      <td>-0.036145</td>\n",
       "      <td>-0.002341</td>\n",
       "      <td>0.83</td>\n",
       "      <td>25.0</td>\n",
       "    </tr>\n",
       "    <tr>\n",
       "      <th>2</th>\n",
       "      <td>980</td>\n",
       "      <td>43.0</td>\n",
       "      <td>41.0</td>\n",
       "      <td>45.0</td>\n",
       "      <td>0.075000</td>\n",
       "      <td>-0.006034</td>\n",
       "      <td>0.03</td>\n",
       "      <td>23.0</td>\n",
       "    </tr>\n",
       "    <tr>\n",
       "      <th>3</th>\n",
       "      <td>981</td>\n",
       "      <td>42.0</td>\n",
       "      <td>39.0</td>\n",
       "      <td>45.0</td>\n",
       "      <td>-0.023256</td>\n",
       "      <td>0.004722</td>\n",
       "      <td>0.00</td>\n",
       "      <td>18.0</td>\n",
       "    </tr>\n",
       "    <tr>\n",
       "      <th>4</th>\n",
       "      <td>981</td>\n",
       "      <td>44.0</td>\n",
       "      <td>35.0</td>\n",
       "      <td>53.0</td>\n",
       "      <td>0.047619</td>\n",
       "      <td>-0.007721</td>\n",
       "      <td>0.00</td>\n",
       "      <td>20.0</td>\n",
       "    </tr>\n",
       "    <tr>\n",
       "      <th>5</th>\n",
       "      <td>983</td>\n",
       "      <td>37.5</td>\n",
       "      <td>29.0</td>\n",
       "      <td>46.0</td>\n",
       "      <td>-0.147727</td>\n",
       "      <td>0.002368</td>\n",
       "      <td>0.00</td>\n",
       "      <td>26.0</td>\n",
       "    </tr>\n",
       "    <tr>\n",
       "      <th>6</th>\n",
       "      <td>984</td>\n",
       "      <td>30.5</td>\n",
       "      <td>20.0</td>\n",
       "      <td>41.0</td>\n",
       "      <td>-0.186667</td>\n",
       "      <td>0.006412</td>\n",
       "      <td>0.00</td>\n",
       "      <td>22.0</td>\n",
       "    </tr>\n",
       "  </tbody>\n",
       "</table>\n",
       "</div>"
      ],
      "text/plain": [
       "      day_length  tavg  tmin  tmax  temp_change  pressure_change  \\\n",
       "date                                                               \n",
       "1            980  40.0  30.0  50.0    -0.036145        -0.002341   \n",
       "2            980  43.0  41.0  45.0     0.075000        -0.006034   \n",
       "3            981  42.0  39.0  45.0    -0.023256         0.004722   \n",
       "4            981  44.0  35.0  53.0     0.047619        -0.007721   \n",
       "5            983  37.5  29.0  46.0    -0.147727         0.002368   \n",
       "6            984  30.5  20.0  41.0    -0.186667         0.006412   \n",
       "\n",
       "      precip_total  wind_speed_peak  \n",
       "date                                 \n",
       "1             0.83             25.0  \n",
       "2             0.03             23.0  \n",
       "3             0.00             18.0  \n",
       "4             0.00             20.0  \n",
       "5             0.00             26.0  \n",
       "6             0.00             22.0  "
      ]
     },
     "execution_count": 56,
     "metadata": {},
     "output_type": "execute_result"
    }
   ],
   "source": [
    "weather_features.iloc[:6]"
   ]
  },
  {
   "cell_type": "markdown",
   "metadata": {},
   "source": [
    "## Normalize inputs for deep learning\n",
    "Most neural networks expect inputs from -1 to 1"
   ]
  },
  {
   "cell_type": "code",
   "execution_count": 57,
   "metadata": {},
   "outputs": [],
   "source": [
    "weather_norm = weather_features.apply(lambda c: 0.5 * (c - c.mean()) / c.std())"
   ]
  },
  {
   "cell_type": "code",
   "execution_count": 58,
   "metadata": {},
   "outputs": [],
   "source": [
    "weather_x = weather_norm.drop('tmax', axis=1)\n",
    "# shift so that we're trying to predict tomorrow\n",
    "weather_y = weather_norm['tmax'].shift(-1)"
   ]
  },
  {
   "cell_type": "code",
   "execution_count": 59,
   "metadata": {},
   "outputs": [],
   "source": [
    "# predict on the last two months\n",
    "predict_day = weather_x.index[-60]"
   ]
  },
  {
   "cell_type": "markdown",
   "metadata": {},
   "source": [
    "# Recurrent Neural Network Model\n",
    "Build a PyTorch model to do time series prediction"
   ]
  },
  {
   "cell_type": "code",
   "execution_count": 60,
   "metadata": {},
   "outputs": [],
   "source": [
    "import torch\n",
    "import torch.nn as nn\n",
    "from torch.autograd import Variable\n",
    "from datetime import datetime\n",
    "import pandas as pd\n",
    "import ggplot as gg"
   ]
  },
  {
   "cell_type": "code",
   "execution_count": 61,
   "metadata": {},
   "outputs": [],
   "source": [
    "x_train = torch.autograd.Variable(\n",
    "    torch.from_numpy(weather_x.loc[:predict_day - 1].as_matrix()).float(), requires_grad=False)\n",
    "x_test = torch.autograd.Variable(\n",
    "    torch.from_numpy(weather_x.loc[predict_day:].as_matrix()).float(), requires_grad=False)\n",
    "batch_size = x_train.size()[0]\n",
    "input_size = len(weather_x.columns)"
   ]
  },
  {
   "cell_type": "code",
   "execution_count": 62,
   "metadata": {},
   "outputs": [],
   "source": [
    "y_train = torch.autograd.Variable(\n",
    "    torch.from_numpy(weather_y.loc[:predict_day - 1].as_matrix()).float(), requires_grad=False)\n",
    "y_test = torch.autograd.Variable(\n",
    "    torch.from_numpy(weather_y.loc[predict_day:].as_matrix()).float(), requires_grad=False)"
   ]
  },
  {
   "cell_type": "code",
   "execution_count": 63,
   "metadata": {},
   "outputs": [],
   "source": [
    "class WeatherNet(torch.nn.Module):\n",
    "    hidden_layers = 1\n",
    "    hidden_size = 8\n",
    "    \n",
    "    def __init__(self):\n",
    "        super(WeatherNet, self).__init__()\n",
    "        # use a small hidden layer since we have such narrow inputs\n",
    "        self.rnn1 = nn.GRU(input_size=input_size,\n",
    "                           hidden_size=self.hidden_size,\n",
    "                           num_layers=self.hidden_layers)\n",
    "        self.dense1 = nn.Linear(self.hidden_size, 1)\n",
    "\n",
    "    def forward(self, x, hidden):\n",
    "        x_batch = x.view(len(x), 1, -1)\n",
    "        x_r, hidden = self.rnn1(x_batch, hidden)\n",
    "        x_o = self.dense1(x_r)\n",
    "        return x_o, hidden\n",
    "\n",
    "    def init_hidden(self, batch_size):\n",
    "        return Variable(torch.randn(self.hidden_layers, 1, self.hidden_size))"
   ]
  },
  {
   "cell_type": "code",
   "execution_count": 64,
   "metadata": {},
   "outputs": [
    {
     "name": "stdout",
     "output_type": "stream",
     "text": [
      "WeatherNet (\n",
      "  (rnn1): GRU(7, 8)\n",
      "  (dense1): Linear (8 -> 1)\n",
      ")\n"
     ]
    }
   ],
   "source": [
    "torch.manual_seed(0)\n",
    "model = WeatherNet()\n",
    "print(model)\n",
    "criterion = nn.MSELoss(size_average=True)\n",
    "# use LBFGS as optimizer since we can load the whole data to train\n",
    "#optimizer = optim.LBFGS(seq.parameters())\n",
    "optimizer = torch.optim.Adadelta(model.parameters())"
   ]
  },
  {
   "cell_type": "code",
   "execution_count": 65,
   "metadata": {},
   "outputs": [
    {
     "name": "stdout",
     "output_type": "stream",
     "text": [
      "21:16 epoch 0 loss: 0.2200760692358017\n",
      "21:17 epoch 2 loss: 0.197604700922966\n",
      "21:17 epoch 4 loss: 0.17714084684848785\n",
      "21:17 epoch 6 loss: 0.15806159377098083\n",
      "21:17 epoch 8 loss: 0.14061188697814941\n",
      "21:17 epoch 10 loss: 0.12431588768959045\n",
      "21:17 epoch 12 loss: 0.11045175790786743\n",
      "21:17 epoch 14 loss: 0.09928999841213226\n",
      "21:17 epoch 16 loss: 0.08926115185022354\n",
      "21:17 epoch 18 loss: 0.08154968917369843\n",
      "21:17 epoch 20 loss: 0.07631676644086838\n",
      "21:17 epoch 22 loss: 0.07259219139814377\n",
      "21:17 epoch 24 loss: 0.06930436939001083\n",
      "21:18 epoch 26 loss: 0.06692928075790405\n",
      "21:18 epoch 28 loss: 0.06559289991855621\n",
      "21:18 epoch 30 loss: 0.06408791989088058\n",
      "21:18 epoch 32 loss: 0.06281154602766037\n",
      "21:18 epoch 34 loss: 0.06194452568888664\n",
      "21:18 epoch 36 loss: 0.06118372082710266\n",
      "21:18 epoch 38 loss: 0.05996329337358475\n",
      "21:18 epoch 40 loss: 0.059083107858896255\n"
     ]
    }
   ],
   "source": [
    "hidden = model.init_hidden(batch_size)\n",
    "\n",
    "for i in range(42):\n",
    "    def closure():\n",
    "        model.zero_grad()\n",
    "        hidden = model.init_hidden(batch_size)\n",
    "        out, hidden = model(x_train, hidden)\n",
    "        loss = criterion(out, y_train)\n",
    "        if i % 2 == 0:\n",
    "            print('{:%H:%M} epoch {} loss: {}'.format(datetime.now(), i, loss.data.numpy()[0]))\n",
    "        loss.backward()\n",
    "        return loss\n",
    "    optimizer.step(closure)"
   ]
  },
  {
   "cell_type": "markdown",
   "metadata": {},
   "source": [
    "# Predict\n",
    "Keep the current hidden state of the model and run it forward without updating parameters"
   ]
  },
  {
   "cell_type": "code",
   "execution_count": 66,
   "metadata": {},
   "outputs": [],
   "source": [
    "y_pred, new_hidden = model(x_test, hidden)"
   ]
  },
  {
   "cell_type": "code",
   "execution_count": 67,
   "metadata": {},
   "outputs": [],
   "source": [
    "predictions = pd.DataFrame(y_pred.view(len(y_pred), -1).data.numpy(), columns=['tmax_norm'])\n",
    "predictions['actual'] = 'predicted'"
   ]
  },
  {
   "cell_type": "code",
   "execution_count": 68,
   "metadata": {},
   "outputs": [],
   "source": [
    "actuals = pd.DataFrame(y_test.data.numpy(), columns=['tmax_norm'])\n",
    "actuals['actual'] = 'actual'"
   ]
  },
  {
   "cell_type": "code",
   "execution_count": 69,
   "metadata": {},
   "outputs": [],
   "source": [
    "# join for plotting purposes\n",
    "eval_data = pd.concat([predictions, actuals])\n",
    "eval_data['day'] = eval_data.index"
   ]
  },
  {
   "cell_type": "code",
   "execution_count": 74,
   "metadata": {},
   "outputs": [
    {
     "data": {
      "image/png": "[encoded data removed]",
      "text/plain": [
       "<matplotlib.figure.Figure at 0x7f3ce07b1320>"
      ]
     },
     "metadata": {},
     "output_type": "display_data"
    },
    {
     "data": {
      "text/plain": [
       "<ggplot: (8743715045275)>"
      ]
     },
     "execution_count": 74,
     "metadata": {},
     "output_type": "execute_result"
    }
   ],
   "source": [
    "gg.ggplot(gg.aes(x='day', y='tmax_norm', color='actual'),\n",
    "          data=eval_data) + gg.geom_line() + gg.ggtitle(\"Predicted vs Actual High Temp\")"
   ]
  }
 ],
 "metadata": {
  "kernelspec": {
   "display_name": "Python 3",
   "language": "python",
   "name": "python3"
  },
  "language_info": {
   "codemirror_mode": {
    "name": "ipython",
    "version": 3
   },
   "file_extension": ".py",
   "mimetype": "text/x-python",
   "name": "python",
   "nbconvert_exporter": "python",
   "pygments_lexer": "ipython3",
   "version": "3.6.3"
  }
 },
 "nbformat": 4,
 "nbformat_minor": 2
}
